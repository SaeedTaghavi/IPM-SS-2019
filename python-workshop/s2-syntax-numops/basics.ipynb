{
 "cells": [
  {
   "cell_type": "markdown",
   "metadata": {},
   "source": [
    "# Python Syntax & Numerical Operators\n",
    "\n",
    "\n",
    "### 1. Printing"
   ]
  },
  {
   "cell_type": "code",
   "execution_count": 1,
   "metadata": {},
   "outputs": [
    {
     "name": "stdout",
     "output_type": "stream",
     "text": [
      "Python 3\n"
     ]
    }
   ],
   "source": [
    "print(\"Python 3\")"
   ]
  },
  {
   "cell_type": "markdown",
   "metadata": {},
   "source": [
    "### 2. Arithmetic Operators"
   ]
  },
  {
   "cell_type": "code",
   "execution_count": 12,
   "metadata": {},
   "outputs": [
    {
     "name": "stdout",
     "output_type": "stream",
     "text": [
      "182 + 32 =  214\n",
      "5 - 8 =  -3\n",
      "5 * 2 =  10\n",
      "7 / 4 =  1.75\n",
      "7 // 4 =  1\n",
      "2 ** 5 =  32\n",
      "14 % 3 =  2\n"
     ]
    }
   ],
   "source": [
    "print(\"182 + 32 = \", 182 + 32)\n",
    "print(\"5 - 8 = \", 5 - 8)\n",
    "print(\"5 * 2 = \", 5 * 2)\n",
    "print(\"7 / 4 = \", 7 / 4)\n",
    "print(\"7 // 4 = \", 7 // 4)\n",
    "print(\"2 ** 5 = \", 2 ** 5)\n",
    "print(\"14 % 3 = \", 14 % 3)"
   ]
  },
  {
   "cell_type": "markdown",
   "metadata": {},
   "source": [
    "### 3. Tuple Assignment"
   ]
  },
  {
   "cell_type": "code",
   "execution_count": 13,
   "metadata": {},
   "outputs": [
    {
     "name": "stdout",
     "output_type": "stream",
     "text": [
      "a:  2\n",
      "b:  1\n"
     ]
    }
   ],
   "source": [
    "a, b = 1, 2\n",
    "a, b = b, a\n",
    "print(\"a: \", a)\n",
    "print(\"b: \", b)"
   ]
  }
 ],
 "metadata": {
  "kernelspec": {
   "display_name": "Python 3",
   "language": "python",
   "name": "python3"
  },
  "language_info": {
   "codemirror_mode": {
    "name": "ipython",
    "version": 3
   },
   "file_extension": ".py",
   "mimetype": "text/x-python",
   "name": "python",
   "nbconvert_exporter": "python",
   "pygments_lexer": "ipython3",
   "version": "3.6.8"
  }
 },
 "nbformat": 4,
 "nbformat_minor": 2
}
