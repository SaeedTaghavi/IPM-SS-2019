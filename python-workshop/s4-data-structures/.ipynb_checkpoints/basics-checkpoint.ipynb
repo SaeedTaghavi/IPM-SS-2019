{
 "cells": [
  {
   "cell_type": "markdown",
   "metadata": {},
   "source": [
    "# Fundamental Data Structures\n",
    "\n",
    "### 1. Variables and Types\n",
    "\n",
    "1. Python is an entirely `object-oriented` programming language.\n",
    "2. Each `variable` is an `object`.\n",
    "3. Variables and their types `don't` need to be declared before assigning them values.\n",
    "4. You can use `'` or `\"` to define an string:\n",
    "    * It is most Pythonic to use single quotes until you need double quotes.\n",
    "    \n",
    "    \n",
    "    "
   ]
  },
  {
   "cell_type": "code",
   "execution_count": 3,
   "metadata": {},
   "outputs": [
    {
     "name": "stdout",
     "output_type": "stream",
     "text": [
      "I can use \"these\" \n",
      "I can use 'these' \n"
     ]
    }
   ],
   "source": [
    "single = 'I can use \"these\" '\n",
    "double = \"I can use 'these' \"\n",
    "print(single)\n",
    "print(double)"
   ]
  },
  {
   "cell_type": "markdown",
   "metadata": {},
   "source": [
    "5. Available number types in Python 3:\n",
    "    * int (auto)\n",
    "    * float (auto)\n",
    "    * double (auto)\n",
    "    * long (auto)\n",
    "    * complex (`4 + 12J`)\n",
    "    \n",
    "    \n",
    "6. Use the built-in `type(arg)` function to determine a variable type."
   ]
  },
  {
   "cell_type": "code",
   "execution_count": 5,
   "metadata": {},
   "outputs": [
    {
     "name": "stdout",
     "output_type": "stream",
     "text": [
      "<class 'float'>\n",
      "<class 'complex'>\n"
     ]
    }
   ],
   "source": [
    "float_value = 7.0\n",
    "complex_value = 3 + 4J\n",
    "print(type(float_value))\n",
    "print(type(complex_value))"
   ]
  },
  {
   "cell_type": "markdown",
   "metadata": {},
   "source": [
    "### 2. Sequence Data Types\n",
    "\n",
    "#### `Tuple`\n",
    "1. Tuples are used to group any number of items into a single compound value regardless of their type (including nested tuples)."
   ]
  },
  {
   "cell_type": "code",
   "execution_count": 8,
   "metadata": {},
   "outputs": [
    {
     "name": "stdout",
     "output_type": "stream",
     "text": [
      "('first', 13, 'random', [1, 2, 3])\n",
      "3'rd Element of the Tuple:  [1, 2, 3]\n"
     ]
    }
   ],
   "source": [
    "my_tuple = (\"first\", 13, \"random\", [1, 2, 3])\n",
    "print(my_tuple)\n",
    "print(\"3'rd Element of the Tuple: \", my_tuple[3])"
   ]
  },
  {
   "cell_type": "markdown",
   "metadata": {},
   "source": [
    "2. Tuple assignment allows for packing and unpacking values:"
   ]
  },
  {
   "cell_type": "code",
   "execution_count": 10,
   "metadata": {},
   "outputs": [
    {
     "name": "stdout",
     "output_type": "stream",
     "text": [
      "IPM\n",
      "Summer\n",
      "2019\n"
     ]
    }
   ],
   "source": [
    "flash = (\"IPM\", \"Summer\", 2019)\n",
    "(school_name, semester, year) = flash\n",
    "print(school_name)\n",
    "print(semester)\n",
    "print(year)"
   ]
  },
  {
   "cell_type": "markdown",
   "metadata": {},
   "source": [
    "3. Unpacking trick:"
   ]
  },
  {
   "cell_type": "code",
   "execution_count": 11,
   "metadata": {},
   "outputs": [
    {
     "name": "stdout",
     "output_type": "stream",
     "text": [
      "[2, 3, 4, 5]\n"
     ]
    }
   ],
   "source": [
    "a, *b, c = (1, 2, 3, 4, 5, 6)\n",
    "print(b)"
   ]
  },
  {
   "cell_type": "markdown",
   "metadata": {},
   "source": [
    "#### `List`\n",
    "1. Lists are containers of objects. They can contain any variable type, and be any number of entries long.\n",
    "2. Processing a list:\n",
    "    * `my_list = []`: to build an empty list\n",
    "    * `my_list.append(arg)`: to add `arg` to the `my_list`\n",
    "    * `my_list[idx]`: to get the value of a specific index "
   ]
  },
  {
   "cell_type": "code",
   "execution_count": 12,
   "metadata": {},
   "outputs": [
    {
     "name": "stdout",
     "output_type": "stream",
     "text": [
      "[30, 18]\n"
     ]
    }
   ],
   "source": [
    "my_list = []\n",
    "my_list.append(30)\n",
    "my_list.append(18)\n",
    "print(my_list)"
   ]
  }
 ],
 "metadata": {
  "kernelspec": {
   "display_name": "Python 3",
   "language": "python",
   "name": "python3"
  },
  "language_info": {
   "codemirror_mode": {
    "name": "ipython",
    "version": 3
   },
   "file_extension": ".py",
   "mimetype": "text/x-python",
   "name": "python",
   "nbconvert_exporter": "python",
   "pygments_lexer": "ipython3",
   "version": "3.6.8"
  }
 },
 "nbformat": 4,
 "nbformat_minor": 2
}
