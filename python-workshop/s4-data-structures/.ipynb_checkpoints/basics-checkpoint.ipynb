{
 "cells": [
  {
   "cell_type": "markdown",
   "metadata": {},
   "source": [
    "# Fundamental Data Structures\n",
    "\n",
    "### 1. Variables and Types\n",
    "\n",
    "1. Python is an entirely `object-oriented` programming language.\n",
    "2. Each `variable` is an `object`.\n",
    "3. Variables and their types `don't` need to be declared before assigning them values.\n",
    "4. You can use `'` or `\"` to define an string:\n",
    "    * It is most Pythonic to use single quotes until you need double quotes.\n",
    "    \n",
    "    \n",
    "    "
   ]
  },
  {
   "cell_type": "code",
   "execution_count": 3,
   "metadata": {},
   "outputs": [
    {
     "name": "stdout",
     "output_type": "stream",
     "text": [
      "I can use \"these\" \n",
      "I can use 'these' \n"
     ]
    }
   ],
   "source": [
    "single = 'I can use \"these\" '\n",
    "double = \"I can use 'these' \"\n",
    "print(single)\n",
    "print(double)"
   ]
  },
  {
   "cell_type": "markdown",
   "metadata": {},
   "source": [
    "5. Available number types in Python 3:\n",
    "    * int (auto)\n",
    "    * float (auto)\n",
    "    * double (auto)\n",
    "    * long (auto)\n",
    "    * complex (`4 + 12J`)\n",
    "    \n",
    "    \n",
    "6. Use the built-in `type(arg)` function to determine a variable type."
   ]
  },
  {
   "cell_type": "code",
   "execution_count": 5,
   "metadata": {},
   "outputs": [
    {
     "name": "stdout",
     "output_type": "stream",
     "text": [
      "<class 'float'>\n",
      "<class 'complex'>\n"
     ]
    }
   ],
   "source": [
    "float_value = 7.0\n",
    "complex_value = 3 + 4J\n",
    "print(type(float_value))\n",
    "print(type(complex_value))"
   ]
  }
 ],
 "metadata": {
  "kernelspec": {
   "display_name": "Python 3",
   "language": "python",
   "name": "python3"
  },
  "language_info": {
   "codemirror_mode": {
    "name": "ipython",
    "version": 3
   },
   "file_extension": ".py",
   "mimetype": "text/x-python",
   "name": "python",
   "nbconvert_exporter": "python",
   "pygments_lexer": "ipython3",
   "version": "3.6.8"
  }
 },
 "nbformat": 4,
 "nbformat_minor": 2
}
