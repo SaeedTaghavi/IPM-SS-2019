{
 "cells": [
  {
   "cell_type": "markdown",
   "metadata": {},
   "source": [
    "# Fundamental Data Structures\n",
    "\n",
    "### 1. Variables and Types\n",
    "\n",
    "1. Python is an entirely `object-oriented` programming language.\n",
    "2. Each `variable` is an `object`.\n",
    "3. Variables and their types `don't` need to be declared before assigning them values.\n",
    "4. You can use `'` or `\"` to define an string:\n",
    "    * It is most Pythonic to use single quotes until you need double quotes.\n",
    "    \n",
    "    \n",
    "    "
   ]
  },
  {
   "cell_type": "code",
   "execution_count": 1,
   "metadata": {},
   "outputs": [
    {
     "name": "stdout",
     "output_type": "stream",
     "text": [
      "I can use \"these\" \n",
      "I can use 'these' \n"
     ]
    }
   ],
   "source": [
    "single = 'I can use \"these\" '\n",
    "double = \"I can use 'these' \"\n",
    "print(single)\n",
    "print(double)"
   ]
  },
  {
   "cell_type": "markdown",
   "metadata": {},
   "source": [
    "5. Available number types in Python 3:\n",
    "    * int (auto)\n",
    "    * float (auto)\n",
    "    * double (auto)\n",
    "    * long (auto)\n",
    "    * complex (`4 + 12J`)\n",
    "    \n",
    "    \n",
    "6. Use the built-in `type(arg)` function to determine a variable type."
   ]
  },
  {
   "cell_type": "code",
   "execution_count": 2,
   "metadata": {},
   "outputs": [
    {
     "name": "stdout",
     "output_type": "stream",
     "text": [
      "<class 'float'>\n",
      "<class 'complex'>\n"
     ]
    }
   ],
   "source": [
    "float_value = 7.0\n",
    "complex_value = 3 + 4J\n",
    "print(type(float_value))\n",
    "print(type(complex_value))"
   ]
  },
  {
   "cell_type": "markdown",
   "metadata": {},
   "source": [
    "### 2. Sequence Data Types (Tuple, Dictionary, Set)\n",
    "\n",
    "#### `Tuple`\n",
    "1. Tuples are used to group any number of items into a single compound value regardless of their type (including nested tuples)."
   ]
  },
  {
   "cell_type": "code",
   "execution_count": 3,
   "metadata": {},
   "outputs": [
    {
     "name": "stdout",
     "output_type": "stream",
     "text": [
      "('first', 13, 'random', [1, 2, 3])\n",
      "3'rd Element of the Tuple:  [1, 2, 3]\n"
     ]
    }
   ],
   "source": [
    "my_tuple = (\"first\", 13, \"random\", [1, 2, 3])\n",
    "print(my_tuple)\n",
    "print(\"3'rd Element of the Tuple: \", my_tuple[3])"
   ]
  },
  {
   "cell_type": "markdown",
   "metadata": {},
   "source": [
    "2. Tuple assignment allows for packing and unpacking values:"
   ]
  },
  {
   "cell_type": "code",
   "execution_count": 4,
   "metadata": {},
   "outputs": [
    {
     "name": "stdout",
     "output_type": "stream",
     "text": [
      "IPM\n",
      "Summer\n",
      "2019\n"
     ]
    }
   ],
   "source": [
    "flash = (\"IPM\", \"Summer\", 2019)\n",
    "(school_name, semester, year) = flash\n",
    "print(school_name)\n",
    "print(semester)\n",
    "print(year)"
   ]
  },
  {
   "cell_type": "markdown",
   "metadata": {},
   "source": [
    "3. Unpacking trick:"
   ]
  },
  {
   "cell_type": "code",
   "execution_count": 5,
   "metadata": {},
   "outputs": [
    {
     "name": "stdout",
     "output_type": "stream",
     "text": [
      "[2, 3, 4, 5]\n"
     ]
    }
   ],
   "source": [
    "a, *b, c = (1, 2, 3, 4, 5, 6)\n",
    "print(b)"
   ]
  },
  {
   "cell_type": "markdown",
   "metadata": {},
   "source": [
    "#### `List`\n",
    "1. Lists are containers of objects. They can contain any variable type, and be any number of entries long.\n",
    "2. Processing a list:\n",
    "    * `my_list = []`: to build an empty list\n",
    "    * `my_list.append(arg)`: to add `arg` to the `my_list`\n",
    "    * `my_list[idx]`: to get the value of a specific index \n",
    "    * `my_list.reverse()`: to reverse a list\n",
    "    * `my_list.remove(arg)`: to remove the object `arg` from the list\n",
    "    * `my_list.extend(arg)`: to concat the `arg` list to `my_list`\n",
    "    * `my_list.pop([arg])`: to remove and return element at the given `arg` index\n",
    "    * `my_list.insert(arg1, arg2)`: to add the `arg2` to my_list at index `arg1`\n",
    "    * `my_list.count(arg)`: to get the number of occurrences of an item\n",
    "    * `my_list.sort()`: sorts a list (optional arguments for string lists)"
   ]
  },
  {
   "cell_type": "code",
   "execution_count": 6,
   "metadata": {},
   "outputs": [
    {
     "name": "stdout",
     "output_type": "stream",
     "text": [
      "[30, 18]\n",
      "[18, 30]\n",
      "[30]\n",
      "[30, 100, 200, 300, 50, 16, 24]\n",
      "1\n",
      "[16, 24, 30, 50, 100, 200, 300]\n"
     ]
    }
   ],
   "source": [
    "my_list = []\n",
    "my_list.append(30)\n",
    "my_list.append(18)\n",
    "print(my_list)\n",
    "my_list.reverse()\n",
    "print(my_list)\n",
    "my_list.remove(18)\n",
    "print(my_list)\n",
    "list_2 = [100, 200, 300, 50, 16, 24, 28]\n",
    "my_list.extend(list_2)\n",
    "my_list.pop()\n",
    "print(my_list)\n",
    "print(my_list.count(my_list[0]))\n",
    "my_list.sort(key=None, reverse=False)\n",
    "print(my_list)"
   ]
  },
  {
   "cell_type": "markdown",
   "metadata": {},
   "source": [
    "#### `Dictionary`\n",
    "\n",
    "1. A Python dictionary is based on the `Standard Mapping Type`. It maps `hashable` values  to arbitrary objects.\n",
    "\n",
    "2. Difference of dictionary and list in Python:\n",
    "\n",
    "    * Lists are ordered set of objects (of the same type), dictionaries are unordered set of objects (can have different types). \n",
    "    * List items are accessed via their positions, dictionary items are accessed via their  keys.\n",
    "    \n",
    "3. Defining a dictionary:\n",
    "    * using the `{key: value}` syntax\n",
    "    * using the `dict()` constructor\n",
    "    * using both\n",
    "    "
   ]
  },
  {
   "cell_type": "code",
   "execution_count": 7,
   "metadata": {},
   "outputs": [
    {
     "name": "stdout",
     "output_type": "stream",
     "text": [
      "{'first': 1, 'second': 2}\n",
      "1\n"
     ]
    }
   ],
   "source": [
    "# Defining a dictionary\n",
    "d1 = {'first': 1, 'second': 2}\n",
    "d2 = dict(first=1, second=2)\n",
    "d3 = dict({'first':1, 'second':2})\n",
    "\n",
    "# Accessing a dictionary and its elements\n",
    "print(d1)\n",
    "print(d1['first'])"
   ]
  },
  {
   "cell_type": "markdown",
   "metadata": {},
   "source": [
    "4. Merge two dictionaries using `update` method:"
   ]
  },
  {
   "cell_type": "code",
   "execution_count": 8,
   "metadata": {},
   "outputs": [
    {
     "name": "stdout",
     "output_type": "stream",
     "text": [
      "{'hobby': 'tennis', 'car': 'Tesla', 'food': 'ice cream'}\n"
     ]
    }
   ],
   "source": [
    "prefs = {'hobby': 'bodybuilding', 'car': 'Tesla'}\n",
    "prefs_new = {'hobby': 'tennis', 'food': 'ice cream'}\n",
    "prefs.update(prefs_new)\n",
    "print(prefs)"
   ]
  },
  {
   "cell_type": "markdown",
   "metadata": {},
   "source": [
    "5. Other dictionary processing methods:\n",
    "    * `my_dictionary.clear()`: to remove all items from `my_dictionary`\n",
    "    * `my_dictionary.copy()`: returns a `shallow copy` (object that points to the same location) of `my_dictionary`\n",
    "    * `my_dictionary.get(arg)`: returns the value mapped to the given `arg` as a key\n",
    "    * `my_dictionary.items()`: returns a list composed of all dictionary entries, expressed as tuples of `(key, value)`\n",
    "    * `my_dictionary.keys()`: returns a list of all keys in dictionary"
   ]
  }
 ],
 "metadata": {
  "kernelspec": {
   "display_name": "Python 3",
   "language": "python",
   "name": "python3"
  },
  "language_info": {
   "codemirror_mode": {
    "name": "ipython",
    "version": 3
   },
   "file_extension": ".py",
   "mimetype": "text/x-python",
   "name": "python",
   "nbconvert_exporter": "python",
   "pygments_lexer": "ipython3",
   "version": "3.6.8"
  }
 },
 "nbformat": 4,
 "nbformat_minor": 2
}
