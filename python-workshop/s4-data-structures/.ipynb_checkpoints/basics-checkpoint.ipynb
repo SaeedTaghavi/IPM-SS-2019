{
 "cells": [
  {
   "cell_type": "markdown",
   "metadata": {},
   "source": [
    "# Fundamental Data Structures\n",
    "\n",
    "### 1. Variables and Types\n",
    "\n",
    "1. Python is an entirely `object-oriented` programming language.\n",
    "2. Each `variable` is an `object`.\n",
    "3. Variables and their types `don't` need to be declared before assigning them values.\n",
    "4. You can use `'` or `\"` to define an string.\n",
    "    * It is most Pythonic to use single quotes until you need double quotes."
   ]
  },
  {
   "cell_type": "code",
   "execution_count": 3,
   "metadata": {},
   "outputs": [
    {
     "name": "stdout",
     "output_type": "stream",
     "text": [
      "I can use \"these\" \n",
      "I can use 'these' \n"
     ]
    }
   ],
   "source": [
    "single = 'I can use \"these\" '\n",
    "double = \"I can use 'these' \"\n",
    "print(single)\n",
    "print(double)"
   ]
  }
 ],
 "metadata": {
  "kernelspec": {
   "display_name": "Python 3",
   "language": "python",
   "name": "python3"
  },
  "language_info": {
   "codemirror_mode": {
    "name": "ipython",
    "version": 3
   },
   "file_extension": ".py",
   "mimetype": "text/x-python",
   "name": "python",
   "nbconvert_exporter": "python",
   "pygments_lexer": "ipython3",
   "version": "3.6.8"
  }
 },
 "nbformat": 4,
 "nbformat_minor": 2
}
