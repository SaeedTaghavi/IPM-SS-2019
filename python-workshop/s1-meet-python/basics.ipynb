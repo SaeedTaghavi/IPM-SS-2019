{
 "cells": [
  {
   "cell_type": "markdown",
   "metadata": {},
   "source": [
    "# What is Python?\n",
    "1. Python is a high-level, interpreted, interactive and object-oriented programming language."
   ]
  },
  {
   "cell_type": "code",
   "execution_count": 2,
   "metadata": {},
   "outputs": [
    {
     "name": "stdout",
     "output_type": "stream",
     "text": [
      "Welcome to the Summer School of Intelligent Learning.\n"
     ]
    }
   ],
   "source": [
    "print(\"Welcome to the Summer School of Intelligent Learning.\")"
   ]
  },
  {
   "cell_type": "markdown",
   "metadata": {},
   "source": [
    "2. Python programs are interpreted at runtime, no need to be compiled pre-execution.\n",
    "3. UNIX-based operating systems come with Python pre-installed. You may run it from a shell with the following command:\n",
    "```\n",
    "python my_script.py\n",
    "```\n",
    "**OR**\n",
    "```\n",
    "python3 my_script.py\n",
    "```"
   ]
  },
  {
   "cell_type": "markdown",
   "metadata": {},
   "source": [
    "# Why Learn Python?\n",
    "* Designed to be Easily Understood\n",
    "* English Keywords (print, for, while, range, etc.)\n",
    "* No required typed-variable declarations\n",
    "* Economical (3-5 times less code than Java, up to 10 times less than C++)"
   ]
  },
  {
   "cell_type": "code",
   "execution_count": 3,
   "metadata": {},
   "outputs": [
    {
     "name": "stdout",
     "output_type": "stream",
     "text": [
      "1\n",
      "2\n",
      "3\n"
     ]
    }
   ],
   "source": [
    "items = [1, 2, 3]\n",
    "for item in items:\n",
    "    print(item)"
   ]
  },
  {
   "cell_type": "markdown",
   "metadata": {},
   "source": [
    "# Python Versions.\n",
    "## Python 2\n",
    "* First implementation in 1989.\n",
    "* Final release in 2010.\n",
    "* A lot of programmers still using it.\n",
    "* Print is interpreted as an statement.\n",
    "```\n",
    "print 'Python 2'\n",
    "```\n",
    "\n",
    "## Python 3\n",
    "* First release in 2008.\n",
    "* Print is interpreted as a function.\n",
    "```\n",
    "print('Python 3')\n",
    "```"
   ]
  }
 ],
 "metadata": {
  "kernelspec": {
   "display_name": "Python 3",
   "language": "python",
   "name": "python3"
  },
  "language_info": {
   "codemirror_mode": {
    "name": "ipython",
    "version": 3
   },
   "file_extension": ".py",
   "mimetype": "text/x-python",
   "name": "python",
   "nbconvert_exporter": "python",
   "pygments_lexer": "ipython3",
   "version": "3.6.8"
  }
 },
 "nbformat": 4,
 "nbformat_minor": 2
}
