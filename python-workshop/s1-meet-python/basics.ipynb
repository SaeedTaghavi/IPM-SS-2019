{
 "cells": [
  {
   "cell_type": "markdown",
   "metadata": {},
   "source": [
    "# What is Python?\n",
    "1. Python is a high-level, interpreted, interactive and object-oriented programming language."
   ]
  },
  {
   "cell_type": "code",
   "execution_count": 2,
   "metadata": {},
   "outputs": [
    {
     "name": "stdout",
     "output_type": "stream",
     "text": [
      "Welcome to the Summer School of Intelligent Learning.\n"
     ]
    }
   ],
   "source": [
    "print(\"Welcome to the Summer School of Intelligent Learning.\")"
   ]
  },
  {
   "cell_type": "markdown",
   "metadata": {},
   "source": [
    "2. Python programs are interpreted at runtime, no need to be compiled pre-execution.\n",
    "3. UNIX-based operating systems come with Python pre-installed. You may run it from a shell with the following command:\n",
    "```\n",
    "python my_script.py\n",
    "```\n",
    "**OR**\n",
    "```\n",
    "python3 my_script.py\n",
    "```"
   ]
  },
  {
   "cell_type": "markdown",
   "metadata": {},
   "source": [
    "# Why Learn Python?\n",
    "* Designed to be Easily Understood\n",
    "* English Keywords (print, for, while, range, etc.)\n",
    "* No required typed-variable declarations"
   ]
  },
  {
   "cell_type": "code",
   "execution_count": 3,
   "metadata": {},
   "outputs": [
    {
     "name": "stdout",
     "output_type": "stream",
     "text": [
      "1\n",
      "2\n",
      "3\n"
     ]
    }
   ],
   "source": [
    "items = [1, 2, 3]\n",
    "for item in items:\n",
    "    print(item)"
   ]
  }
 ],
 "metadata": {
  "kernelspec": {
   "display_name": "Python 3",
   "language": "python",
   "name": "python3"
  },
  "language_info": {
   "codemirror_mode": {
    "name": "ipython",
    "version": 3
   },
   "file_extension": ".py",
   "mimetype": "text/x-python",
   "name": "python",
   "nbconvert_exporter": "python",
   "pygments_lexer": "ipython3",
   "version": "3.6.8"
  }
 },
 "nbformat": 4,
 "nbformat_minor": 2
}
