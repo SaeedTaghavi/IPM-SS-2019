{
 "cells": [
  {
   "cell_type": "markdown",
   "metadata": {},
   "source": [
    "# Looping\n",
    "\n",
    "### 1. `for` Loops\n",
    "for loops are used in most programming languages to iterate over a defined sequence. The standard Python `for` loop syntax is:\n",
    "\n",
    "```\n",
    "for iterating_num in sequence:\n",
    "    do_something()\n",
    "```"
   ]
  },
  {
   "cell_type": "code",
   "execution_count": 1,
   "metadata": {},
   "outputs": [
    {
     "name": "stdout",
     "output_type": "stream",
     "text": [
      "Letter:  I\n",
      "Letter:  P\n",
      "Letter:  M\n",
      "Letter:  -\n",
      "Letter:  S\n",
      "Letter:  u\n",
      "Letter:  m\n",
      "Letter:  m\n",
      "Letter:  e\n",
      "Letter:  r\n",
      "Letter:  -\n",
      "Letter:  S\n",
      "Letter:  c\n",
      "Letter:  h\n",
      "Letter:  o\n",
      "Letter:  o\n",
      "Letter:  l\n"
     ]
    }
   ],
   "source": [
    "for letter in 'IPM-Summer-School':\n",
    "    print('Letter: ', letter)"
   ]
  },
  {
   "cell_type": "code",
   "execution_count": 2,
   "metadata": {},
   "outputs": [
    {
     "name": "stdout",
     "output_type": "stream",
     "text": [
      "1\n",
      "2\n",
      "3\n",
      "4\n",
      "5\n",
      "6\n"
     ]
    }
   ],
   "source": [
    "nums = [1, 2, 3, 4, 5, 6]\n",
    "\n",
    "for num in nums:\n",
    "    print(num)"
   ]
  }
 ],
 "metadata": {
  "kernelspec": {
   "display_name": "Python 3",
   "language": "python",
   "name": "python3"
  },
  "language_info": {
   "codemirror_mode": {
    "name": "ipython",
    "version": 3
   },
   "file_extension": ".py",
   "mimetype": "text/x-python",
   "name": "python",
   "nbconvert_exporter": "python",
   "pygments_lexer": "ipython3",
   "version": "3.6.8"
  }
 },
 "nbformat": 4,
 "nbformat_minor": 2
}
