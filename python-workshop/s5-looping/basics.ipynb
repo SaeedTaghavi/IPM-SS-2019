{
 "cells": [
  {
   "cell_type": "markdown",
   "metadata": {},
   "source": [
    "# Looping\n",
    "\n",
    "### 1. `for` Loops\n",
    "for loops are used in most programming languages to iterate over a defined sequence. The standard Python `for` loop syntax is:\n",
    "\n",
    "```\n",
    "for iterating_num in sequence:\n",
    "    do_something()\n",
    "```"
   ]
  },
  {
   "cell_type": "code",
   "execution_count": 1,
   "metadata": {},
   "outputs": [
    {
     "name": "stdout",
     "output_type": "stream",
     "text": [
      "Letter:  I\n",
      "Letter:  P\n",
      "Letter:  M\n",
      "Letter:  -\n",
      "Letter:  S\n",
      "Letter:  u\n",
      "Letter:  m\n",
      "Letter:  m\n",
      "Letter:  e\n",
      "Letter:  r\n",
      "Letter:  -\n",
      "Letter:  S\n",
      "Letter:  c\n",
      "Letter:  h\n",
      "Letter:  o\n",
      "Letter:  o\n",
      "Letter:  l\n"
     ]
    }
   ],
   "source": [
    "for letter in 'IPM-Summer-School':\n",
    "    print('Letter: ', letter)"
   ]
  },
  {
   "cell_type": "code",
   "execution_count": 2,
   "metadata": {},
   "outputs": [
    {
     "name": "stdout",
     "output_type": "stream",
     "text": [
      "1\n",
      "2\n",
      "3\n",
      "4\n",
      "5\n",
      "6\n"
     ]
    }
   ],
   "source": [
    "nums = [1, 2, 3, 4, 5, 6]\n",
    "\n",
    "for num in nums:\n",
    "    print(num)"
   ]
  },
  {
   "cell_type": "markdown",
   "metadata": {},
   "source": [
    "### 2. `while` Loops\n",
    "Python's `while` loops repeatedly loop and execute some code while a boolean statement evaluates to true. The standard `while` loop syntax:\n",
    "\n",
    "```\n",
    "while condition:\n",
    "    do_something()\n",
    "```"
   ]
  },
  {
   "cell_type": "code",
   "execution_count": 3,
   "metadata": {},
   "outputs": [
    {
     "name": "stdout",
     "output_type": "stream",
     "text": [
      "0\n",
      "1\n",
      "2\n",
      "3\n",
      "4\n"
     ]
    }
   ],
   "source": [
    "counter = 0\n",
    "while counter < 5:\n",
    "    print(counter)\n",
    "    counter = counter + 1"
   ]
  },
  {
   "cell_type": "markdown",
   "metadata": {},
   "source": [
    "#### `break` and `continue`\n",
    "Python's `break` statement is used to terminate the current loop, either a for or a while loop."
   ]
  },
  {
   "cell_type": "code",
   "execution_count": 4,
   "metadata": {},
   "outputs": [
    {
     "name": "stdout",
     "output_type": "stream",
     "text": [
      "5\n",
      "4\n",
      "3\n",
      "Broke the Loop.\n"
     ]
    }
   ],
   "source": [
    "x = 5\n",
    "while (x > 0):\n",
    "    print(x)\n",
    "    x = x - 1\n",
    "    if (x == 2):\n",
    "        break\n",
    "\n",
    "print(\"Broke the Loop.\")"
   ]
  },
  {
   "cell_type": "markdown",
   "metadata": {},
   "source": [
    "Python's `continue` statement is used to skip the current code block, and to resume execution back at the beginning of the current loop."
   ]
  },
  {
   "cell_type": "code",
   "execution_count": 5,
   "metadata": {},
   "outputs": [
    {
     "name": "stdout",
     "output_type": "stream",
     "text": [
      "1\n",
      "3\n",
      "5\n",
      "7\n",
      "9\n"
     ]
    }
   ],
   "source": [
    "for x in range(0, 10):\n",
    "    if (x % 2 == 0):\n",
    "        continue\n",
    "        \n",
    "    print(x)"
   ]
  },
  {
   "cell_type": "markdown",
   "metadata": {},
   "source": [
    "#### `else` in loops\n",
    "Unlike other programming languages such as C, Python allows the use of `else` statements with loops. Once a `for` or `while` loops condition evaluates to false, the `else` is executed."
   ]
  },
  {
   "cell_type": "code",
   "execution_count": 7,
   "metadata": {},
   "outputs": [
    {
     "name": "stdout",
     "output_type": "stream",
     "text": [
      "0\n",
      "1\n",
      "2\n",
      "3 is too big!\n"
     ]
    }
   ],
   "source": [
    "x = 0\n",
    "while (x < 3):\n",
    "    print(x)\n",
    "    x += 1\n",
    "else:\n",
    "    print(x, \"is too big!\")"
   ]
  },
  {
   "cell_type": "markdown",
   "metadata": {},
   "source": [
    "#### `nested loops`\n",
    "A nested loop in Python is where you have one loop inside of another loop.\n",
    "Standard syntax will be:\n",
    "```\n",
    "for x in sequence_1:\n",
    "    for y in sequence_2:\n",
    "        do_something()\n",
    "    do_something_else()\n",
    "```"
   ]
  },
  {
   "cell_type": "code",
   "execution_count": 8,
   "metadata": {},
   "outputs": [
    {
     "name": "stdout",
     "output_type": "stream",
     "text": [
      "a\n",
      "0\n",
      "1\n",
      "2\n",
      "b\n",
      "0\n",
      "1\n",
      "2\n",
      "c\n",
      "0\n",
      "1\n",
      "2\n"
     ]
    }
   ],
   "source": [
    "letters = [\"a\", \"b\", \"c\"]\n",
    "\n",
    "for letter in letters:\n",
    "    print(letter)\n",
    "    for num in range(0, 3):\n",
    "        print(num)"
   ]
  }
 ],
 "metadata": {
  "kernelspec": {
   "display_name": "Python 3",
   "language": "python",
   "name": "python3"
  },
  "language_info": {
   "codemirror_mode": {
    "name": "ipython",
    "version": 3
   },
   "file_extension": ".py",
   "mimetype": "text/x-python",
   "name": "python",
   "nbconvert_exporter": "python",
   "pygments_lexer": "ipython3",
   "version": "3.6.8"
  }
 },
 "nbformat": 4,
 "nbformat_minor": 2
}
