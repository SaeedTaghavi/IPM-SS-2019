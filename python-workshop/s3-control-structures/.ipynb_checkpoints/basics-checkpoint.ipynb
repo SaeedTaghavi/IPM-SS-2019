{
 "cells": [
  {
   "cell_type": "markdown",
   "metadata": {},
   "source": [
    "# Control Structures\n",
    "\n",
    "### 1. Conditional Statements\n",
    "\n",
    "#### `IF` Statement\n",
    "Python uses `booleans` to evaluate conditions. A boolean variable can be either `true` or `false`."
   ]
  },
  {
   "cell_type": "code",
   "execution_count": 4,
   "metadata": {},
   "outputs": [
    {
     "name": "stdout",
     "output_type": "stream",
     "text": [
      "A is True.\n",
      "A is True.\n"
     ]
    }
   ],
   "source": [
    "a = True\n",
    "if a == True:\n",
    "    print(\"A is True.\")\n",
    "if a is True:\n",
    "    print(\"A is True.\")"
   ]
  },
  {
   "cell_type": "markdown",
   "metadata": {},
   "source": [
    "#### `Conditional` Operators\n",
    "\n",
    "`==`: `is equal to`\n",
    "\n",
    "`!=`: `is not equal to`\n",
    "\n",
    "`<`: `is less than`\n",
    "\n",
    "`<=`: `is less than or equal to`\n",
    "\n",
    "`>`: `is greater than`\n",
    "\n",
    "`>=`: `is greater than or equal to`"
   ]
  },
  {
   "cell_type": "code",
   "execution_count": 5,
   "metadata": {},
   "outputs": [
    {
     "name": "stdout",
     "output_type": "stream",
     "text": [
      "False\n",
      "True\n",
      "True\n"
     ]
    }
   ],
   "source": [
    "some_number = 4\n",
    "\n",
    "print(some_number == 6)\n",
    "print(some_number < 6)\n",
    "print(some_number != 5)"
   ]
  },
  {
   "cell_type": "markdown",
   "metadata": {},
   "source": [
    "#### `Boolean` Operators\n",
    "Python uses two keywords to allow complex boolean conditions:\n",
    "* `and`\n",
    "* `or`"
   ]
  },
  {
   "cell_type": "code",
   "execution_count": 1,
   "metadata": {},
   "outputs": [
    {
     "name": "stdout",
     "output_type": "stream",
     "text": [
      "Success!\n"
     ]
    }
   ],
   "source": [
    "some_number = 1\n",
    "some_text = 'intelligent learning'\n",
    "\n",
    "if some_text == 'intelligent learning' and some_number == 1:\n",
    "    print('Success!')"
   ]
  },
  {
   "cell_type": "markdown",
   "metadata": {},
   "source": [
    "#### Program Flow Control\n",
    "\n",
    "```\n",
    "if (condition):\n",
    "    do_something()\n",
    "else:\n",
    "    do_something_else()\n",
    "```"
   ]
  },
  {
   "cell_type": "code",
   "execution_count": 6,
   "metadata": {},
   "outputs": [
    {
     "name": "stdout",
     "output_type": "stream",
     "text": [
      "Some Number is Not Greater than 6.\n"
     ]
    }
   ],
   "source": [
    "some_number = 3\n",
    "if (some_number > 6):\n",
    "    print(\"Some Number is Greater than 6.\")\n",
    "else:\n",
    "    print(\"Some Number is Not Greater than 6.\")"
   ]
  },
  {
   "cell_type": "markdown",
   "metadata": {},
   "source": [
    "### 2. Indentation and Commenting\n",
    "Python uses indentation (tabs) to separate blocks of code instead of containing them with curly braces. "
   ]
  },
  {
   "cell_type": "code",
   "execution_count": 9,
   "metadata": {},
   "outputs": [
    {
     "name": "stdout",
     "output_type": "stream",
     "text": [
      "This is printed.\n",
      "What about this one?\n"
     ]
    }
   ],
   "source": [
    "if True:\n",
    "    print(\"This is printed.\")\n",
    "else:\n",
    "    print(\"This is not printed.\")\n",
    "print(\"What about this one?\")"
   ]
  },
  {
   "cell_type": "code",
   "execution_count": 12,
   "metadata": {},
   "outputs": [
    {
     "name": "stdout",
     "output_type": "stream",
     "text": [
      "This is printed.\n"
     ]
    }
   ],
   "source": [
    "if True:\n",
    "    print(\"This is printed.\")\n",
    "else:\n",
    "    print(\"This is not printed.\")\n",
    "    print(\"What about this one?\")"
   ]
  },
  {
   "cell_type": "markdown",
   "metadata": {},
   "source": [
    "### 3. `in`, `is`, `not` Operators"
   ]
  },
  {
   "cell_type": "markdown",
   "metadata": {},
   "source": [
    "#### `in`\n",
    "1. Python's `in` operator is a membership operator and can be used to check whether an object exists inside a **container of objects**.\n",
    "\n",
    "2. `in` evaluates to `true` if it finds the specified variable in the container, and `false` otherwise."
   ]
  },
  {
   "cell_type": "code",
   "execution_count": null,
   "metadata": {},
   "outputs": [],
   "source": [
    "to_be_found = 5\n",
    "array_of_nums = [1, 2, 3, 4]\n",
    "\n",
    "if to_be_found in array_of_nums:\n",
    "    print('Found!')\n",
    "else:\n",
    "    print('Not Found!')"
   ]
  },
  {
   "cell_type": "markdown",
   "metadata": {},
   "source": [
    "3. Using `in` with different container types:\n",
    "\n",
    "  * `tuple`: Python looks for an item in the tuple\n",
    "\n",
    "  * `string`: Python looks for a substring (of consecutive characters)"
   ]
  },
  {
   "cell_type": "markdown",
   "metadata": {},
   "source": [
    "#### `is`\n",
    "1. Python's `is` operator is used to match instances of variables, instead of just matching the values.\n",
    "2. `is` will evaluate to true if the variables on either side of the operator point to the same **object**, not just the same value."
   ]
  },
  {
   "cell_type": "code",
   "execution_count": 2,
   "metadata": {},
   "outputs": [
    {
     "data": {
      "text/plain": [
       "True"
      ]
     },
     "execution_count": 2,
     "metadata": {},
     "output_type": "execute_result"
    }
   ],
   "source": [
    "str = 'python'\n",
    "str2 = str\n",
    "\n",
    "str2 is str"
   ]
  },
  {
   "cell_type": "code",
   "execution_count": 3,
   "metadata": {},
   "outputs": [
    {
     "data": {
      "text/plain": [
       "False"
      ]
     },
     "execution_count": 3,
     "metadata": {},
     "output_type": "execute_result"
    }
   ],
   "source": [
    "numsX = [1, 2, 3]\n",
    "numsY = [1, 2, 3]\n",
    "\n",
    "numsX is numsY"
   ]
  },
  {
   "cell_type": "markdown",
   "metadata": {},
   "source": []
  }
 ],
 "metadata": {
  "kernelspec": {
   "display_name": "Python 3",
   "language": "python",
   "name": "python3"
  },
  "language_info": {
   "codemirror_mode": {
    "name": "ipython",
    "version": 3
   },
   "file_extension": ".py",
   "mimetype": "text/x-python",
   "name": "python",
   "nbconvert_exporter": "python",
   "pygments_lexer": "ipython3",
   "version": "3.6.8"
  }
 },
 "nbformat": 4,
 "nbformat_minor": 2
}
