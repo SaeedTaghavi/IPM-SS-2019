{
 "cells": [
  {
   "cell_type": "markdown",
   "metadata": {},
   "source": [
    "# Control Structures\n",
    "\n",
    "### 1. Conditional Statements\n",
    "\n",
    "#### `IF` Statement\n",
    "Python uses `booleans` to evaluate conditions. A boolean variable can be either `true` or `false`."
   ]
  },
  {
   "cell_type": "code",
   "execution_count": 4,
   "metadata": {},
   "outputs": [
    {
     "name": "stdout",
     "output_type": "stream",
     "text": [
      "A is True.\n",
      "A is True.\n"
     ]
    }
   ],
   "source": [
    "a = True\n",
    "if a == True:\n",
    "    print(\"A is True.\")\n",
    "if a is True:\n",
    "    print(\"A is True.\")"
   ]
  },
  {
   "cell_type": "markdown",
   "metadata": {},
   "source": [
    "#### `Conditional` Operators\n",
    "\n",
    "`==`: `is equal to`\n",
    "\n",
    "`!=`: `is not equal to`\n",
    "\n",
    "`<`: `is less than`\n",
    "\n",
    "`<=`: `is less than or equal to`\n",
    "\n",
    "`>`: `is greater than`\n",
    "\n",
    "`>=`: `is greater than or equal to`"
   ]
  },
  {
   "cell_type": "code",
   "execution_count": 5,
   "metadata": {},
   "outputs": [
    {
     "name": "stdout",
     "output_type": "stream",
     "text": [
      "False\n",
      "True\n",
      "True\n"
     ]
    }
   ],
   "source": [
    "some_number = 4\n",
    "\n",
    "print(some_number == 6)\n",
    "print(some_number < 6)\n",
    "print(some_number != 5)"
   ]
  },
  {
   "cell_type": "markdown",
   "metadata": {},
   "source": [
    "#### Program Flow Control\n",
    "\n",
    "```\n",
    "if (condition):\n",
    "    do_something()\n",
    "else:\n",
    "    do_something_else()\n",
    "```"
   ]
  },
  {
   "cell_type": "code",
   "execution_count": null,
   "metadata": {},
   "outputs": [],
   "source": [
    "some_number = 3\n",
    "if (some_number > )"
   ]
  }
 ],
 "metadata": {
  "kernelspec": {
   "display_name": "Python 3",
   "language": "python",
   "name": "python3"
  },
  "language_info": {
   "codemirror_mode": {
    "name": "ipython",
    "version": 3
   },
   "file_extension": ".py",
   "mimetype": "text/x-python",
   "name": "python",
   "nbconvert_exporter": "python",
   "pygments_lexer": "ipython3",
   "version": "3.6.8"
  }
 },
 "nbformat": 4,
 "nbformat_minor": 2
}
